{
  "nbformat": 4,
  "nbformat_minor": 0,
  "metadata": {
    "colab": {
      "provenance": [],
      "authorship_tag": "ABX9TyNYiqAGQfaoWg+NhwUTyad7",
      "include_colab_link": true
    },
    "kernelspec": {
      "name": "python3",
      "display_name": "Python 3"
    },
    "language_info": {
      "name": "python"
    }
  },
  "cells": [
    {
      "cell_type": "markdown",
      "metadata": {
        "id": "view-in-github",
        "colab_type": "text"
      },
      "source": [
        "<a href=\"https://colab.research.google.com/github/09Meg/CA-ONE/blob/main/CA_ONE.ipynb\" target=\"_parent\"><img src=\"https://colab.research.google.com/assets/colab-badge.svg\" alt=\"Open In Colab\"/></a>"
      ]
    },
    {
      "cell_type": "code",
      "source": [
        "#define a class employee with \n",
        "#attributes name, weeklyhours, rate, overtimeRate, weeklytaxcredit\n",
        "# and store these in the constructor\n",
        "\n",
        "class Employee:\n",
        "    def __init__(self, emp_name, weekly_hours, rate, overtime_rate, weekly_tax_credit):\n",
        "        self.emp_name = emp_name\n",
        "        self.weekly_hours = weekly_hours\n",
        "        self.rate = rate\n",
        "        self.overtime_rate = overtime_rate\n",
        "        self.weekly_tax_credit = weekly_tax_credit\n",
        "\n",
        "emp = Employee(\"Sam Smith\", 35, 11, 15, 70)\n",
        "print(emp.emp_name, \n",
        "emp.weekly_hours, \n",
        "emp.rate, \n",
        "emp.overtime_rate, \n",
        "emp.weekly_tax_credit)\n"
      ],
      "metadata": {
        "colab": {
          "base_uri": "https://localhost:8080/"
        },
        "id": "GXGcGo445kYp",
        "outputId": "531b3822-58f5-4098-ef7a-7f35b9846f61"
      },
      "execution_count": 21,
      "outputs": [
        {
          "output_type": "stream",
          "name": "stdout",
          "text": [
            "Sam Smith 35 11 15 70\n"
          ]
        }
      ]
    },
    {
      "cell_type": "code",
      "source": [
        "#Create a method computeWeeklyPay (self,hours) returning the gross pay of the employee,\n",
        "# which is the hours up to weeklyhours at rate, plus hours above this at overtimeRate\n",
        "def computeWeeklyPay(self,hours):\n",
        "  if hours <= self.weekly_hours:\n",
        "      return hours * self.rate\n",
        "  else:\n",
        "      regular_pay = self.weekly_hours*self.rate\n",
        "      overtime_pay = (hours - self.weekly_hours) * self.overtime_rate\n",
        "      return regular_pay + overtime_pay"
      ],
      "metadata": {
        "id": "zY9CdLQiEl6D"
      },
      "execution_count": 24,
      "outputs": []
    },
    {
      "cell_type": "code",
      "source": [
        "##Create method computeTax(self,grossPay) which returns the tax due at \n",
        "#40% on the gross pay, reduced by the tax credit.\n",
        "def computeTax(self,grossPay):\n",
        "  tax_due = 0.4 * grosspay\n",
        "  tax_due -= self.weekly_tax_credit\n",
        "  if tax_due < 0:\n",
        "    tax_due = 0\n",
        "  return tax_due"
      ],
      "metadata": {
        "id": "tngfYv1MGXph"
      },
      "execution_count": 26,
      "outputs": []
    },
    {
      "cell_type": "code",
      "source": [
        "#Ensure overtime cannot be negative\n",
        "def computeWeeklyPay(self, hours):\n",
        "    if hours <= self.weekly_hours:\n",
        "        return hours * self.rate\n",
        "    else:\n",
        "        regular_pay = self.weekly_hours * self.rate\n",
        "        overtime_hours = hours - self.weekly_hours\n",
        "        if overtime_hours > 0:\n",
        "            overtime_pay = overtime_hours * self.overtime_rate\n",
        "        else:\n",
        "            overtime_pay = 0\n",
        "        return regular_pay + overtime_pay"
      ],
      "metadata": {
        "id": "Y1fPMM-xICL_"
      },
      "execution_count": 30,
      "outputs": []
    },
    {
      "cell_type": "code",
      "source": [
        "#weekly pay cannot be negative\n",
        "def computeWeeklyPay(self, hours):\n",
        "    if hours <= self.weekly_hours:\n",
        "        pay = hours * self.rate\n",
        "    else:\n",
        "        regular_pay = self.weekly_hours * self.rate\n",
        "        overtime_hours = hours - self.weekly_hours\n",
        "        if overtime_hours > 0:\n",
        "            overtime_pay = overtime_hours * self.overtime_rate\n",
        "        else:\n",
        "            overtime_pay = 0\n",
        "        pay = regular_pay + overtime_pay\n",
        "        \n",
        "    if pay < 0:\n",
        "        pay = 0\n",
        "        \n",
        "    return pay"
      ],
      "metadata": {
        "id": "DEk6R-6KJxce"
      },
      "execution_count": 33,
      "outputs": []
    }
  ]
}