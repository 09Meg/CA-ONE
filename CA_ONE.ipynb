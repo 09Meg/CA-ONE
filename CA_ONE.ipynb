{
  "nbformat": 4,
  "nbformat_minor": 0,
  "metadata": {
    "colab": {
      "provenance": [],
      "authorship_tag": "ABX9TyMZs06xGzwdHmai7pi4h9eA",
      "include_colab_link": true
    },
    "kernelspec": {
      "name": "python3",
      "display_name": "Python 3"
    },
    "language_info": {
      "name": "python"
    }
  },
  "cells": [
    {
      "cell_type": "markdown",
      "metadata": {
        "id": "view-in-github",
        "colab_type": "text"
      },
      "source": [
        "<a href=\"https://colab.research.google.com/github/09Meg/CA-ONE/blob/main/CA_ONE.ipynb\" target=\"_parent\"><img src=\"https://colab.research.google.com/assets/colab-badge.svg\" alt=\"Open In Colab\"/></a>"
      ]
    },
    {
      "cell_type": "code",
      "source": [
        "#define a class employee with \n",
        "#attributes name, weeklyhours, rate, overtimeRate, weeklytaxcredit\n",
        "# and store these in the constructor\n",
        "\n",
        "class Employee:\n",
        "  def_init_(self, emp_name, weekly_hours, rate, overtime_rate, weekly_tax_credit);\n",
        "     self.emp_name = emp_name\n",
        "     self.weekly_hours = weekly_hours\n",
        "     self.rate = rate\n",
        "     self.overtime_rate = overtime_rate\n",
        "     self.weekly_tax_credit = weekly_tax_credit\n",
        "emp = Employee(\"Sam Smith\", 35, 11, 15, 70)\n",
        "print(self.emp_name, \n",
        "self.weekly_hours, \n",
        "self.rate, \n",
        "self.overtime_rate, \n",
        "self.weekly_tax_credit)"
      ],
      "metadata": {
        "colab": {
          "base_uri": "https://localhost:8080/",
          "height": 131
        },
        "id": "GXGcGo445kYp",
        "outputId": "325c645f-96a4-472d-dcd6-89483d3ff6ce"
      },
      "execution_count": 13,
      "outputs": [
        {
          "output_type": "error",
          "ename": "IndentationError",
          "evalue": "ignored",
          "traceback": [
            "\u001b[0;36m  File \u001b[0;32m\"<ipython-input-13-60196b139eae>\"\u001b[0;36m, line \u001b[0;32m7\u001b[0m\n\u001b[0;31m    self.emp_name = emp_name\u001b[0m\n\u001b[0m    ^\u001b[0m\n\u001b[0;31mIndentationError\u001b[0m\u001b[0;31m:\u001b[0m unexpected indent\n"
          ]
        }
      ]
    }
  ]
}