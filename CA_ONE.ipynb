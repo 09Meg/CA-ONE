{
  "nbformat": 4,
  "nbformat_minor": 0,
  "metadata": {
    "colab": {
      "provenance": [],
      "authorship_tag": "ABX9TyOYRHmE25FCRhdj7PxzrZoV",
      "include_colab_link": true
    },
    "kernelspec": {
      "name": "python3",
      "display_name": "Python 3"
    },
    "language_info": {
      "name": "python"
    }
  },
  "cells": [
    {
      "cell_type": "markdown",
      "metadata": {
        "id": "view-in-github",
        "colab_type": "text"
      },
      "source": [
        "<a href=\"https://colab.research.google.com/github/09Meg/CA-ONE/blob/main/CA_ONE.ipynb\" target=\"_parent\"><img src=\"https://colab.research.google.com/assets/colab-badge.svg\" alt=\"Open In Colab\"/></a>"
      ]
    },
    {
      "cell_type": "code",
      "source": [
        "#define a class employee with \n",
        "#attributes name, weeklyhours, rate, overtimeRate, weeklytaxcredit\n",
        "# and store these in the constructor\n",
        "\n",
        "class Employee:\n",
        "    def __init__(self, emp_name, weekly_hours, rate, overtime_rate, weekly_tax_credit):\n",
        "        self.emp_name = emp_name\n",
        "        self.weekly_hours = weekly_hours\n",
        "        self.rate = rate\n",
        "        self.overtime_rate = overtime_rate\n",
        "        self.weekly_tax_credit = weekly_tax_credit"
      ],
      "metadata": {
        "id": "GXGcGo445kYp"
      },
      "execution_count": 97,
      "outputs": []
    },
    {
      "cell_type": "code",
      "source": [
        "#Create a method computeWeeklyPay (self,hours) returning the gross pay of the employee,\n",
        "# which is the hours up to weeklyhours at rate, plus hours above this at overtimeRate\n",
        "def computeWeeklyPay(self,hours):\n",
        "  if hours <= self.weekly_hours:\n",
        "      return hours * self.rate\n",
        "  else:\n",
        "      regular_pay = self.weekly_hours*self.rate\n",
        "      overtime_pay = (hours - self.weekly_hours) * self.overtime_rate\n",
        "      return regular_pay + overtime_pay"
      ],
      "metadata": {
        "id": "zY9CdLQiEl6D"
      },
      "execution_count": 24,
      "outputs": []
    },
    {
      "cell_type": "code",
      "source": [
        "##Create method computeTax(self,grossPay) which returns the tax due at \n",
        "#40% on the gross pay, reduced by the tax credit.\n",
        "def computeTax(self,grossPay):\n",
        "  tax_due = 0.4 * grossPay\n",
        "  tax_due -= self.weekly_tax_credit\n",
        "  if tax_due < 0:\n",
        "    tax_due = 0\n",
        "  return tax_due"
      ],
      "metadata": {
        "id": "tngfYv1MGXph"
      },
      "execution_count": 58,
      "outputs": []
    },
    {
      "cell_type": "code",
      "source": [
        "#Ensure overtime cannot be negative\n",
        "def computeWeeklyPay(self, hours):\n",
        "    if hours <= self.weekly_hours:\n",
        "        return hours * self.rate\n",
        "    else:\n",
        "        regular_pay = self.weekly_hours * self.rate\n",
        "        overtime_hours = hours - self.weekly_hours\n",
        "        if overtime_hours > 0:\n",
        "            overtime_pay = overtime_hours * self.overtime_rate\n",
        "        else:\n",
        "            overtime_pay = 0\n",
        "        return regular_pay + overtime_pay"
      ],
      "metadata": {
        "id": "Y1fPMM-xICL_"
      },
      "execution_count": 30,
      "outputs": []
    },
    {
      "cell_type": "code",
      "source": [
        "#weekly pay cannot be negative\n",
        "def computeWeeklyPay(self, hours):\n",
        "    if hours <= self.weekly_hours:\n",
        "        pay = hours * self.rate\n",
        "    else:\n",
        "        regular_pay = self.weekly_hours * self.rate\n",
        "        overtime_hours = hours - self.weekly_hours\n",
        "        if overtime_hours > 0:\n",
        "            overtime_pay = overtime_hours * self.overtime_rate\n",
        "        else:\n",
        "            overtime_pay = 0\n",
        "        pay = regular_pay + overtime_pay\n",
        "        \n",
        "    if pay < 0:\n",
        "        pay = 0\n",
        "        \n",
        "    return pay"
      ],
      "metadata": {
        "id": "DEk6R-6KJxce"
      },
      "execution_count": 33,
      "outputs": []
    },
    {
      "cell_type": "code",
      "source": [
        "#Tax cannot be negative\n",
        "def computeTax(self, grossPay):\n",
        "    tax = 0.4 * grossPay - self.weekly_tax_credit\n",
        "    if tax < 0:\n",
        "        tax = 0\n",
        "    return tax"
      ],
      "metadata": {
        "id": "tFZq6tuLLOR0"
      },
      "execution_count": 57,
      "outputs": []
    },
    {
      "cell_type": "code",
      "source": [
        "emp = Employee(\"Sam Smith\", 35, 11, 15, 70)\n",
        "hours = 39\n",
        "grossPay = emp.computeWeeklyPay(hours)\n",
        "tax = emp.computeTax(grossPay)\n",
        "\n",
        "print(f\"{emp.emp_name}'s grossPay for {hours} hours is {grossPay:.2f}\")\n",
        "print(f\"{emp.emp_name}'s tax for the week is {tax:.2f}\")"
      ],
      "metadata": {
        "id": "xrJAcIZuYDa1",
        "outputId": "49ff2d5a-c0f8-4851-86ee-cc9e11a65297",
        "colab": {
          "base_uri": "https://localhost:8080/",
          "height": 235
        }
      },
      "execution_count": 99,
      "outputs": [
        {
          "output_type": "error",
          "ename": "AttributeError",
          "evalue": "ignored",
          "traceback": [
            "\u001b[0;31m---------------------------------------------------------------------------\u001b[0m",
            "\u001b[0;31mAttributeError\u001b[0m                            Traceback (most recent call last)",
            "\u001b[0;32m<ipython-input-99-abbde5bb9c42>\u001b[0m in \u001b[0;36m<cell line: 3>\u001b[0;34m()\u001b[0m\n\u001b[1;32m      1\u001b[0m \u001b[0memp\u001b[0m \u001b[0;34m=\u001b[0m \u001b[0mEmployee\u001b[0m\u001b[0;34m(\u001b[0m\u001b[0;34m\"Sam Smith\"\u001b[0m\u001b[0;34m,\u001b[0m \u001b[0;36m35\u001b[0m\u001b[0;34m,\u001b[0m \u001b[0;36m11\u001b[0m\u001b[0;34m,\u001b[0m \u001b[0;36m15\u001b[0m\u001b[0;34m,\u001b[0m \u001b[0;36m70\u001b[0m\u001b[0;34m)\u001b[0m\u001b[0;34m\u001b[0m\u001b[0;34m\u001b[0m\u001b[0m\n\u001b[1;32m      2\u001b[0m \u001b[0mhours\u001b[0m \u001b[0;34m=\u001b[0m \u001b[0;36m39\u001b[0m\u001b[0;34m\u001b[0m\u001b[0;34m\u001b[0m\u001b[0m\n\u001b[0;32m----> 3\u001b[0;31m \u001b[0mgrossPay\u001b[0m \u001b[0;34m=\u001b[0m \u001b[0memp\u001b[0m\u001b[0;34m.\u001b[0m\u001b[0mcomputeWeeklyPay\u001b[0m\u001b[0;34m(\u001b[0m\u001b[0mhours\u001b[0m\u001b[0;34m)\u001b[0m\u001b[0;34m\u001b[0m\u001b[0;34m\u001b[0m\u001b[0m\n\u001b[0m\u001b[1;32m      4\u001b[0m \u001b[0mtax\u001b[0m \u001b[0;34m=\u001b[0m \u001b[0memp\u001b[0m\u001b[0;34m.\u001b[0m\u001b[0mcomputeTax\u001b[0m\u001b[0;34m(\u001b[0m\u001b[0mgrossPay\u001b[0m\u001b[0;34m)\u001b[0m\u001b[0;34m\u001b[0m\u001b[0;34m\u001b[0m\u001b[0m\n\u001b[1;32m      5\u001b[0m \u001b[0;34m\u001b[0m\u001b[0m\n",
            "\u001b[0;31mAttributeError\u001b[0m: 'Employee' object has no attribute 'computeWeeklyPay'"
          ]
        }
      ]
    }
  ]
}