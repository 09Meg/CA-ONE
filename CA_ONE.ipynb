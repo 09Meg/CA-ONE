{
  "nbformat": 4,
  "nbformat_minor": 0,
  "metadata": {
    "colab": {
      "provenance": [],
      "authorship_tag": "ABX9TyNM+f0KdzcSVzNvy3yaRasA",
      "include_colab_link": true
    },
    "kernelspec": {
      "name": "python3",
      "display_name": "Python 3"
    },
    "language_info": {
      "name": "python"
    }
  },
  "cells": [
    {
      "cell_type": "markdown",
      "metadata": {
        "id": "view-in-github",
        "colab_type": "text"
      },
      "source": [
        "<a href=\"https://colab.research.google.com/github/09Meg/CA-ONE/blob/main/CA_ONE.ipynb\" target=\"_parent\"><img src=\"https://colab.research.google.com/assets/colab-badge.svg\" alt=\"Open In Colab\"/></a>"
      ]
    },
    {
      "cell_type": "code",
      "source": [
        "#define a class employee with \n",
        "#attributes name, weeklyhours, rate, overtimeRate, weeklytaxcredit\n",
        "# and store these in the constructor\n",
        "\n",
        "class Employee:\n",
        "    def __init__(self, emp_name, weekly_hours, rate, overtime_rate, weekly_tax_credit):\n",
        "        self.emp_name = emp_name\n",
        "        self.weekly_hours = weekly_hours\n",
        "        self.rate = rate\n",
        "        self.overtime_rate = overtime_rate\n",
        "        self.weekly_tax_credit = weekly_tax_credit\n",
        "\n",
        "emp = Employee(\"Sam Smith\", 35, 11, 15, 70)\n",
        "print(emp.emp_name, \n",
        "emp.weekly_hours, \n",
        "emp.rate, \n",
        "emp.overtime_rate, \n",
        "emp.weekly_tax_credit)\n"
      ],
      "metadata": {
        "colab": {
          "base_uri": "https://localhost:8080/"
        },
        "id": "GXGcGo445kYp",
        "outputId": "531b3822-58f5-4098-ef7a-7f35b9846f61"
      },
      "execution_count": 21,
      "outputs": [
        {
          "output_type": "stream",
          "name": "stdout",
          "text": [
            "Sam Smith 35 11 15 70\n"
          ]
        }
      ]
    },
    {
      "cell_type": "code",
      "source": [
        "#Create a method computeWeeklyPay (self,hours) returning the gross pay of the employee,\n",
        "# which is the hours up to weeklyhours at rate, plus hours above this at overtimeRate\n",
        "def computeWeeklyPay(self,hours):\n",
        "  if hours <= self.weekly_hours\n",
        "      return hours * self.rate\n",
        "  else:\n",
        "      regular_pay = self.weekly_hours*self.rate\n",
        "      overtime_pay = (hours - self.weekly_hours) * self.overtime_rate\n",
        "      return regular_pay + overtime_pay"
      ],
      "metadata": {
        "colab": {
          "base_uri": "https://localhost:8080/",
          "height": 131
        },
        "id": "zY9CdLQiEl6D",
        "outputId": "dbd2006b-e564-4749-945f-f2e3d5ac23ce"
      },
      "execution_count": 23,
      "outputs": [
        {
          "output_type": "error",
          "ename": "SyntaxError",
          "evalue": "ignored",
          "traceback": [
            "\u001b[0;36m  File \u001b[0;32m\"<ipython-input-23-1ef69636096f>\"\u001b[0;36m, line \u001b[0;32m4\u001b[0m\n\u001b[0;31m    if hours <= self.weekly_hours\u001b[0m\n\u001b[0m                                 ^\u001b[0m\n\u001b[0;31mSyntaxError\u001b[0m\u001b[0;31m:\u001b[0m expected ':'\n"
          ]
        }
      ]
    }
  ]
}