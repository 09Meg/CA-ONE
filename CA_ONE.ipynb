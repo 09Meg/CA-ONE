{
  "nbformat": 4,
  "nbformat_minor": 0,
  "metadata": {
    "colab": {
      "provenance": [],
      "authorship_tag": "ABX9TyN1P/9A0FF8tfCIClA2Phyj",
      "include_colab_link": true
    },
    "kernelspec": {
      "name": "python3",
      "display_name": "Python 3"
    },
    "language_info": {
      "name": "python"
    }
  },
  "cells": [
    {
      "cell_type": "markdown",
      "metadata": {
        "id": "view-in-github",
        "colab_type": "text"
      },
      "source": [
        "<a href=\"https://colab.research.google.com/github/09Meg/CA-ONE/blob/main/CA_ONE.ipynb\" target=\"_parent\"><img src=\"https://colab.research.google.com/assets/colab-badge.svg\" alt=\"Open In Colab\"/></a>"
      ]
    },
    {
      "cell_type": "code",
      "source": [
        "#define a class employee with \n",
        "#attributes name, weeklyhours, rate, overtimeRate, weeklytaxcredit\n",
        "# and store these in the constructor\n",
        "\n",
        "class Employee:\n",
        "  def_init_(self, emp_name, weekly_hours, rate, overtime_rate, weekly_tax_credit):\n",
        "    self.emp_name = emp_name\n",
        "    self.weekly_hours = weekly_hours\n",
        "    self.rate = rate\n",
        "    self.overtime_rate = overtime_rate\n",
        "    self.weekly_tax_credit = weekly_tax_credit\n",
        "emp = Employee(\"Sam Smith\", 35, 11, 15, 70)"
      ],
      "metadata": {
        "id": "GXGcGo445kYp",
        "outputId": "c53ffc86-8d2e-479b-9833-8ed10be5e69c",
        "colab": {
          "base_uri": "https://localhost:8080/",
          "height": 131
        }
      },
      "execution_count": 6,
      "outputs": [
        {
          "output_type": "error",
          "ename": "SyntaxError",
          "evalue": "ignored",
          "traceback": [
            "\u001b[0;36m  File \u001b[0;32m\"<ipython-input-6-6804dd2b9b08>\"\u001b[0;36m, line \u001b[0;32m6\u001b[0m\n\u001b[0;31m    def_init_(self, emp_name, weekly_hours, rate, overtime_rate, weekly_tax_credit):\u001b[0m\n\u001b[0m                                                                                   ^\u001b[0m\n\u001b[0;31mSyntaxError\u001b[0m\u001b[0;31m:\u001b[0m invalid syntax\n"
          ]
        }
      ]
    }
  ]
}