{
  "nbformat": 4,
  "nbformat_minor": 0,
  "metadata": {
    "colab": {
      "provenance": [],
      "authorship_tag": "ABX9TyPwypBWFO3+ela1oqQ+S+uJ",
      "include_colab_link": true
    },
    "kernelspec": {
      "name": "python3",
      "display_name": "Python 3"
    },
    "language_info": {
      "name": "python"
    }
  },
  "cells": [
    {
      "cell_type": "markdown",
      "metadata": {
        "id": "view-in-github",
        "colab_type": "text"
      },
      "source": [
        "<a href=\"https://colab.research.google.com/github/09Meg/CA-ONE/blob/main/CA_ONE.ipynb\" target=\"_parent\"><img src=\"https://colab.research.google.com/assets/colab-badge.svg\" alt=\"Open In Colab\"/></a>"
      ]
    },
    {
      "cell_type": "code",
      "source": [
        "#define a class employee with \n",
        "#attributes name, weeklyhours, rate, overtimeRate, weeklytaxcredit\n",
        "# and store these in the constructor\n",
        "\n",
        "class Employee:\n",
        "    def __init__(self, emp_name, weekly_hours, rate, overtime_rate, weekly_tax_credit):\n",
        "        self.emp_name = emp_name\n",
        "        self.weekly_hours = weekly_hours\n",
        "        self.rate = rate\n",
        "        self.overtime_rate = overtime_rate\n",
        "        self.weekly_tax_credit = weekly_tax_credit\n",
        "\n",
        "emp = Employee(\"Sam Smith\", 35, 11, 15, 70)\n",
        "print(emp.emp_name, \n",
        "emp.weekly_hours, \n",
        "emp.rate, \n",
        "emp.overtime_rate, \n",
        "emp.weekly_tax_credit)"
      ],
      "metadata": {
        "colab": {
          "base_uri": "https://localhost:8080/"
        },
        "id": "GXGcGo445kYp",
        "outputId": "531b3822-58f5-4098-ef7a-7f35b9846f61"
      },
      "execution_count": 21,
      "outputs": [
        {
          "output_type": "stream",
          "name": "stdout",
          "text": [
            "Sam Smith 35 11 15 70\n"
          ]
        }
      ]
    }
  ]
}